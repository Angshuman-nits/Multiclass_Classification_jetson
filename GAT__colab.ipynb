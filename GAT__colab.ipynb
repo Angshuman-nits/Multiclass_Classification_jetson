{
  "cells": [
    {
      "cell_type": "code",
      "execution_count": 1,
      "metadata": {
        "colab": {
          "base_uri": "https://localhost:8080/"
        },
        "id": "t3KKNb2QIGME",
        "outputId": "1878d4be-943a-4bd3-b787-b5b281f52781",
        "collapsed": true
      },
      "outputs": [
        {
          "output_type": "stream",
          "name": "stdout",
          "text": [
            "Collecting torch_geometric\n",
            "  Downloading torch_geometric-2.6.1-py3-none-any.whl.metadata (63 kB)\n",
            "\u001b[?25l     \u001b[90m━━━━━━━━━━━━━━━━━━━━━━━━━━━━━━━━━━━━━━━━\u001b[0m \u001b[32m0.0/63.1 kB\u001b[0m \u001b[31m?\u001b[0m eta \u001b[36m-:--:--\u001b[0m\r\u001b[2K     \u001b[90m━━━━━━━━━━━━━━━━━━━━━━━━━━━━━━━━━━━━━━━━\u001b[0m \u001b[32m63.1/63.1 kB\u001b[0m \u001b[31m1.6 MB/s\u001b[0m eta \u001b[36m0:00:00\u001b[0m\n",
            "\u001b[?25hRequirement already satisfied: aiohttp in /usr/local/lib/python3.10/dist-packages (from torch_geometric) (3.10.5)\n",
            "Requirement already satisfied: fsspec in /usr/local/lib/python3.10/dist-packages (from torch_geometric) (2024.6.1)\n",
            "Requirement already satisfied: jinja2 in /usr/local/lib/python3.10/dist-packages (from torch_geometric) (3.1.4)\n",
            "Requirement already satisfied: numpy in /usr/local/lib/python3.10/dist-packages (from torch_geometric) (1.26.4)\n",
            "Requirement already satisfied: psutil>=5.8.0 in /usr/local/lib/python3.10/dist-packages (from torch_geometric) (5.9.5)\n",
            "Requirement already satisfied: pyparsing in /usr/local/lib/python3.10/dist-packages (from torch_geometric) (3.1.4)\n",
            "Requirement already satisfied: requests in /usr/local/lib/python3.10/dist-packages (from torch_geometric) (2.32.3)\n",
            "Requirement already satisfied: tqdm in /usr/local/lib/python3.10/dist-packages (from torch_geometric) (4.66.5)\n",
            "Requirement already satisfied: aiohappyeyeballs>=2.3.0 in /usr/local/lib/python3.10/dist-packages (from aiohttp->torch_geometric) (2.4.0)\n",
            "Requirement already satisfied: aiosignal>=1.1.2 in /usr/local/lib/python3.10/dist-packages (from aiohttp->torch_geometric) (1.3.1)\n",
            "Requirement already satisfied: attrs>=17.3.0 in /usr/local/lib/python3.10/dist-packages (from aiohttp->torch_geometric) (24.2.0)\n",
            "Requirement already satisfied: frozenlist>=1.1.1 in /usr/local/lib/python3.10/dist-packages (from aiohttp->torch_geometric) (1.4.1)\n",
            "Requirement already satisfied: multidict<7.0,>=4.5 in /usr/local/lib/python3.10/dist-packages (from aiohttp->torch_geometric) (6.1.0)\n",
            "Requirement already satisfied: yarl<2.0,>=1.0 in /usr/local/lib/python3.10/dist-packages (from aiohttp->torch_geometric) (1.11.1)\n",
            "Requirement already satisfied: async-timeout<5.0,>=4.0 in /usr/local/lib/python3.10/dist-packages (from aiohttp->torch_geometric) (4.0.3)\n",
            "Requirement already satisfied: MarkupSafe>=2.0 in /usr/local/lib/python3.10/dist-packages (from jinja2->torch_geometric) (2.1.5)\n",
            "Requirement already satisfied: charset-normalizer<4,>=2 in /usr/local/lib/python3.10/dist-packages (from requests->torch_geometric) (3.3.2)\n",
            "Requirement already satisfied: idna<4,>=2.5 in /usr/local/lib/python3.10/dist-packages (from requests->torch_geometric) (3.10)\n",
            "Requirement already satisfied: urllib3<3,>=1.21.1 in /usr/local/lib/python3.10/dist-packages (from requests->torch_geometric) (2.2.3)\n",
            "Requirement already satisfied: certifi>=2017.4.17 in /usr/local/lib/python3.10/dist-packages (from requests->torch_geometric) (2024.8.30)\n",
            "Requirement already satisfied: typing-extensions>=4.1.0 in /usr/local/lib/python3.10/dist-packages (from multidict<7.0,>=4.5->aiohttp->torch_geometric) (4.12.2)\n",
            "Downloading torch_geometric-2.6.1-py3-none-any.whl (1.1 MB)\n",
            "\u001b[2K   \u001b[90m━━━━━━━━━━━━━━━━━━━━━━━━━━━━━━━━━━━━━━━━\u001b[0m \u001b[32m1.1/1.1 MB\u001b[0m \u001b[31m17.4 MB/s\u001b[0m eta \u001b[36m0:00:00\u001b[0m\n",
            "\u001b[?25hInstalling collected packages: torch_geometric\n",
            "Successfully installed torch_geometric-2.6.1\n"
          ]
        }
      ],
      "source": [
        "pip install torch_geometric"
      ]
    },
    {
      "cell_type": "code",
      "execution_count": 2,
      "metadata": {
        "colab": {
          "base_uri": "https://localhost:8080/"
        },
        "id": "tHMGtF4-InfP",
        "outputId": "e9431737-e843-4504-bf6e-95ad1de01aee"
      },
      "outputs": [
        {
          "output_type": "stream",
          "name": "stdout",
          "text": [
            "Collecting torchmetrics\n",
            "  Downloading torchmetrics-1.4.2-py3-none-any.whl.metadata (19 kB)\n",
            "Requirement already satisfied: numpy>1.20.0 in /usr/local/lib/python3.10/dist-packages (from torchmetrics) (1.26.4)\n",
            "Requirement already satisfied: packaging>17.1 in /usr/local/lib/python3.10/dist-packages (from torchmetrics) (24.1)\n",
            "Requirement already satisfied: torch>=1.10.0 in /usr/local/lib/python3.10/dist-packages (from torchmetrics) (2.4.1+cu121)\n",
            "Collecting lightning-utilities>=0.8.0 (from torchmetrics)\n",
            "  Downloading lightning_utilities-0.11.7-py3-none-any.whl.metadata (5.2 kB)\n",
            "Requirement already satisfied: setuptools in /usr/local/lib/python3.10/dist-packages (from lightning-utilities>=0.8.0->torchmetrics) (71.0.4)\n",
            "Requirement already satisfied: typing-extensions in /usr/local/lib/python3.10/dist-packages (from lightning-utilities>=0.8.0->torchmetrics) (4.12.2)\n",
            "Requirement already satisfied: filelock in /usr/local/lib/python3.10/dist-packages (from torch>=1.10.0->torchmetrics) (3.16.1)\n",
            "Requirement already satisfied: sympy in /usr/local/lib/python3.10/dist-packages (from torch>=1.10.0->torchmetrics) (1.13.3)\n",
            "Requirement already satisfied: networkx in /usr/local/lib/python3.10/dist-packages (from torch>=1.10.0->torchmetrics) (3.3)\n",
            "Requirement already satisfied: jinja2 in /usr/local/lib/python3.10/dist-packages (from torch>=1.10.0->torchmetrics) (3.1.4)\n",
            "Requirement already satisfied: fsspec in /usr/local/lib/python3.10/dist-packages (from torch>=1.10.0->torchmetrics) (2024.6.1)\n",
            "Requirement already satisfied: MarkupSafe>=2.0 in /usr/local/lib/python3.10/dist-packages (from jinja2->torch>=1.10.0->torchmetrics) (2.1.5)\n",
            "Requirement already satisfied: mpmath<1.4,>=1.1.0 in /usr/local/lib/python3.10/dist-packages (from sympy->torch>=1.10.0->torchmetrics) (1.3.0)\n",
            "Downloading torchmetrics-1.4.2-py3-none-any.whl (869 kB)\n",
            "\u001b[2K   \u001b[90m━━━━━━━━━━━━━━━━━━━━━━━━━━━━━━━━━━━━━━━━\u001b[0m \u001b[32m869.2/869.2 kB\u001b[0m \u001b[31m13.8 MB/s\u001b[0m eta \u001b[36m0:00:00\u001b[0m\n",
            "\u001b[?25hDownloading lightning_utilities-0.11.7-py3-none-any.whl (26 kB)\n",
            "Installing collected packages: lightning-utilities, torchmetrics\n",
            "Successfully installed lightning-utilities-0.11.7 torchmetrics-1.4.2\n"
          ]
        }
      ],
      "source": [
        "pip install torchmetrics"
      ]
    },
    {
      "cell_type": "code",
      "execution_count": 3,
      "metadata": {
        "colab": {
          "base_uri": "https://localhost:8080/"
        },
        "id": "SHvEWSDph4ak",
        "outputId": "d4d2743f-da18-4eee-bd4d-f707991bb5b0"
      },
      "outputs": [
        {
          "output_type": "stream",
          "name": "stdout",
          "text": [
            "Requirement already satisfied: matplotlib in /usr/local/lib/python3.10/dist-packages (3.7.1)\n",
            "Requirement already satisfied: contourpy>=1.0.1 in /usr/local/lib/python3.10/dist-packages (from matplotlib) (1.3.0)\n",
            "Requirement already satisfied: cycler>=0.10 in /usr/local/lib/python3.10/dist-packages (from matplotlib) (0.12.1)\n",
            "Requirement already satisfied: fonttools>=4.22.0 in /usr/local/lib/python3.10/dist-packages (from matplotlib) (4.53.1)\n",
            "Requirement already satisfied: kiwisolver>=1.0.1 in /usr/local/lib/python3.10/dist-packages (from matplotlib) (1.4.7)\n",
            "Requirement already satisfied: numpy>=1.20 in /usr/local/lib/python3.10/dist-packages (from matplotlib) (1.26.4)\n",
            "Requirement already satisfied: packaging>=20.0 in /usr/local/lib/python3.10/dist-packages (from matplotlib) (24.1)\n",
            "Requirement already satisfied: pillow>=6.2.0 in /usr/local/lib/python3.10/dist-packages (from matplotlib) (10.4.0)\n",
            "Requirement already satisfied: pyparsing>=2.3.1 in /usr/local/lib/python3.10/dist-packages (from matplotlib) (3.1.4)\n",
            "Requirement already satisfied: python-dateutil>=2.7 in /usr/local/lib/python3.10/dist-packages (from matplotlib) (2.8.2)\n",
            "Requirement already satisfied: six>=1.5 in /usr/local/lib/python3.10/dist-packages (from python-dateutil>=2.7->matplotlib) (1.16.0)\n"
          ]
        }
      ],
      "source": [
        "pip install matplotlib"
      ]
    },
    {
      "cell_type": "code",
      "execution_count": 4,
      "metadata": {
        "colab": {
          "base_uri": "https://localhost:8080/"
        },
        "id": "LMizle3ah4al",
        "outputId": "440bf3d0-947b-4147-8c49-ed1d0937b40b"
      },
      "outputs": [
        {
          "output_type": "stream",
          "name": "stdout",
          "text": [
            "Requirement already satisfied: torchvision in /usr/local/lib/python3.10/dist-packages (0.19.1+cu121)\n",
            "Requirement already satisfied: numpy in /usr/local/lib/python3.10/dist-packages (from torchvision) (1.26.4)\n",
            "Requirement already satisfied: torch==2.4.1 in /usr/local/lib/python3.10/dist-packages (from torchvision) (2.4.1+cu121)\n",
            "Requirement already satisfied: pillow!=8.3.*,>=5.3.0 in /usr/local/lib/python3.10/dist-packages (from torchvision) (10.4.0)\n",
            "Requirement already satisfied: filelock in /usr/local/lib/python3.10/dist-packages (from torch==2.4.1->torchvision) (3.16.1)\n",
            "Requirement already satisfied: typing-extensions>=4.8.0 in /usr/local/lib/python3.10/dist-packages (from torch==2.4.1->torchvision) (4.12.2)\n",
            "Requirement already satisfied: sympy in /usr/local/lib/python3.10/dist-packages (from torch==2.4.1->torchvision) (1.13.3)\n",
            "Requirement already satisfied: networkx in /usr/local/lib/python3.10/dist-packages (from torch==2.4.1->torchvision) (3.3)\n",
            "Requirement already satisfied: jinja2 in /usr/local/lib/python3.10/dist-packages (from torch==2.4.1->torchvision) (3.1.4)\n",
            "Requirement already satisfied: fsspec in /usr/local/lib/python3.10/dist-packages (from torch==2.4.1->torchvision) (2024.6.1)\n",
            "Requirement already satisfied: MarkupSafe>=2.0 in /usr/local/lib/python3.10/dist-packages (from jinja2->torch==2.4.1->torchvision) (2.1.5)\n",
            "Requirement already satisfied: mpmath<1.4,>=1.1.0 in /usr/local/lib/python3.10/dist-packages (from sympy->torch==2.4.1->torchvision) (1.3.0)\n"
          ]
        }
      ],
      "source": [
        "pip install torchvision"
      ]
    },
    {
      "cell_type": "code",
      "execution_count": 5,
      "metadata": {
        "colab": {
          "base_uri": "https://localhost:8080/"
        },
        "id": "0dpc4Mgnh4an",
        "outputId": "ca8a20c2-239f-412a-cc01-f9b1d0ad2ce9"
      },
      "outputs": [
        {
          "output_type": "stream",
          "name": "stdout",
          "text": [
            "Requirement already satisfied: scikit-learn in /usr/local/lib/python3.10/dist-packages (1.5.2)\n",
            "Requirement already satisfied: numpy>=1.19.5 in /usr/local/lib/python3.10/dist-packages (from scikit-learn) (1.26.4)\n",
            "Requirement already satisfied: scipy>=1.6.0 in /usr/local/lib/python3.10/dist-packages (from scikit-learn) (1.13.1)\n",
            "Requirement already satisfied: joblib>=1.2.0 in /usr/local/lib/python3.10/dist-packages (from scikit-learn) (1.4.2)\n",
            "Requirement already satisfied: threadpoolctl>=3.1.0 in /usr/local/lib/python3.10/dist-packages (from scikit-learn) (3.5.0)\n"
          ]
        }
      ],
      "source": [
        "pip install scikit-learn\n"
      ]
    },
    {
      "cell_type": "code",
      "source": [
        "from google.colab import drive\n",
        "drive.mount('/content/gdrive')"
      ],
      "metadata": {
        "colab": {
          "base_uri": "https://localhost:8080/"
        },
        "id": "SYtglDsfiFW2",
        "outputId": "c0085d98-7616-4dee-a391-02aae9e92832"
      },
      "execution_count": 6,
      "outputs": [
        {
          "output_type": "stream",
          "name": "stdout",
          "text": [
            "Mounted at /content/gdrive\n"
          ]
        }
      ]
    },
    {
      "cell_type": "code",
      "execution_count": 7,
      "metadata": {
        "id": "fzPKZsJrtSNc"
      },
      "outputs": [],
      "source": [
        "import numpy as np\n",
        "import matplotlib.pyplot as plt\n",
        "import torch\n",
        "import torch.nn as nn\n",
        "import torch.optim as optim\n",
        "from torch.utils.data import Subset\n",
        "import numpy as np\n",
        "\n",
        "from torch_geometric.loader import DataLoader\n",
        "import torch_geometric.nn as gnn\n",
        "import torch.nn.functional as F\n",
        "#from torch_geometric.nn import GATConv\n",
        "#from torch_geometric.nn import SAGEConv, GraphSAGE\n",
        "from torchvision.datasets import DatasetFolder\n",
        "from torchmetrics.classification import MulticlassSpecificity\n",
        "from torchmetrics import AUROC\n",
        "\n",
        "from sklearn.model_selection import train_test_split\n"
      ]
    },
    {
      "cell_type": "code",
      "execution_count": 8,
      "metadata": {
        "id": "zNmoje-jh4at"
      },
      "outputs": [],
      "source": [
        "import torch\n",
        "from torchvision.datasets import DatasetFolder\n",
        "\n",
        "ds = DatasetFolder(\n",
        "    root=r'/content/gdrive/MyDrive/Processed',\n",
        "    loader=torch.load,\n",
        "    extensions=('pt',)\n",
        ")\n"
      ]
    },
    {
      "cell_type": "code",
      "execution_count": 9,
      "metadata": {
        "colab": {
          "base_uri": "https://localhost:8080/"
        },
        "id": "fIgVb2UrtSNk",
        "outputId": "055e28d7-2928-4c97-895f-52779a40e3a9"
      },
      "outputs": [
        {
          "output_type": "stream",
          "name": "stdout",
          "text": [
            "1930 215\n"
          ]
        }
      ],
      "source": [
        "train_ratio = 0.90\n",
        "val_ratio = 0.10\n",
        "\n",
        "# Calculate the sizes of each set\n",
        "total_size = len(ds)\n",
        "train_size = int(total_size * train_ratio)\n",
        "val_size = total_size - train_size\n",
        "print(train_size,val_size)"
      ]
    },
    {
      "cell_type": "code",
      "execution_count": 10,
      "metadata": {
        "id": "SBFqvS3RtSNk"
      },
      "outputs": [],
      "source": [
        "train_idx, valid_idx = train_test_split(np.arange(len(ds)),test_size=val_size, shuffle=True, stratify=ds.targets)\n",
        "\n",
        "val_dataset = Subset(ds, valid_idx)\n",
        "train_dataset = Subset(ds, train_idx)"
      ]
    },
    {
      "cell_type": "code",
      "execution_count": 11,
      "metadata": {
        "id": "bv-XxmzytSNl"
      },
      "outputs": [],
      "source": [
        "batch_size = 32\n",
        "\n",
        "train_loader = DataLoader(train_dataset, batch_size=32, drop_last=True, shuffle=True)\n",
        "val_loader = DataLoader(val_dataset, batch_size=32,shuffle=False)"
      ]
    },
    {
      "cell_type": "code",
      "execution_count": 12,
      "metadata": {
        "id": "OGppWpMs4tJq"
      },
      "outputs": [],
      "source": [
        "import torch\n",
        "import torch.nn.functional as F\n",
        "from torch_geometric.nn import GATConv\n",
        "\n",
        "\n",
        "class GAT(torch.nn.Module):\n",
        "    def __init__(self, in_channels, out_channels):\n",
        "        super(GAT, self).__init__()\n",
        "        self.conv1 = GATConv(3, 8, heads=8, dropout=0.2)\n",
        "        self.conv2 = GATConv(8 * 8, 4, dropout=0.2)\n",
        "        self.global_pool = gnn.global_mean_pool\n",
        "\n",
        "    def forward(self, data):\n",
        "        x, edge_index, batch = data.x, data.edge_index, data.batch\n",
        "        x = F.dropout(x, p=0.2, training=self.training)\n",
        "        x = F.elu(self.conv1(x, edge_index))\n",
        "        x = F.dropout(x, p=0.2, training=self.training)\n",
        "        x = self.conv2(x, edge_index)\n",
        "        x = self.global_pool(x, data.batch)\n",
        "        return torch.log_softmax(x, dim=-1)"
      ]
    },
    {
      "cell_type": "code",
      "execution_count": 13,
      "metadata": {
        "id": "XLtxiQfD403K"
      },
      "outputs": [],
      "source": [
        "device = torch.device(\"cuda\" if torch.cuda.is_available() else \"cpu\")\n",
        "model = GAT(3,4).to(device)"
      ]
    },
    {
      "cell_type": "code",
      "execution_count": 14,
      "metadata": {
        "id": "jzN1pgl4cZ1_"
      },
      "outputs": [],
      "source": [
        "from torch_geometric.nn import GATConv"
      ]
    },
    {
      "cell_type": "code",
      "execution_count": 15,
      "metadata": {
        "id": "Qot8IYNAb4SF"
      },
      "outputs": [],
      "source": [
        "class GAT(torch.nn.Module):\n",
        "    def __init__(self, in_dim, out_dim):\n",
        "        super(GAT, self).__init__()\n",
        "        self.conv1 = GATConv(3, 128, heads=4)\n",
        "        self.lin1 = torch.nn.Linear(3, 4 * 128)\n",
        "        self.conv2 = GATConv(4 * 128, 128, heads=4)\n",
        "        self.lin2 = torch.nn.Linear(4 * 128, 4 * 128)\n",
        "        self.conv3 = GATConv(4 * 128, 4, heads=6, concat=False)\n",
        "        self.lin3 = torch.nn.Linear(4 * 128, 4)\n",
        "        self.global_pool = gnn.global_mean_pool\n",
        "\n",
        "    def forward(self, data):\n",
        "        x, edge_index, batch = data.x, data.edge_index, data.batch\n",
        "        x = F.elu(self.conv1(x, edge_index) + self.lin1(x))\n",
        "        x = F.elu(self.conv2(x, edge_index) + self.lin2(x))\n",
        "        x = self.conv3(x, edge_index) + self.lin3(x)\n",
        "        x = self.global_pool(x, data.batch)\n",
        "        return x"
      ]
    },
    {
      "cell_type": "code",
      "execution_count": 16,
      "metadata": {
        "id": "ig5QmYhRb7Ef"
      },
      "outputs": [],
      "source": [
        "device = torch.device('cuda' if torch.cuda.is_available() else 'cpu')\n",
        "model = GAT(3,4).to(device)"
      ]
    },
    {
      "cell_type": "code",
      "execution_count": 17,
      "metadata": {
        "id": "XjQIt6D2tSNm"
      },
      "outputs": [],
      "source": [
        "name='new_GATrasp'\n",
        "# give a name to ur model version"
      ]
    },
    {
      "cell_type": "code",
      "execution_count": 18,
      "metadata": {
        "id": "6jUDvhg4tSNm",
        "tags": [
          "parameters"
        ]
      },
      "outputs": [],
      "source": [
        "optimizer = optim.Adam(model.parameters(), lr=1e-3)\n",
        "#optimizer = optim.RMSprop(model.parameters(), lr=1e-3, eps=1e-08)\n",
        "criterion = nn.CrossEntropyLoss()\n",
        "#criterion = nn.BCELoss()\n",
        "epochs = 100"
      ]
    },
    {
      "cell_type": "code",
      "execution_count": 19,
      "metadata": {
        "id": "1QfpWjg3tSNm"
      },
      "outputs": [],
      "source": [
        "loss_list = []\n",
        "val_loss_list=[]\n",
        "val_acc_list = []\n",
        "train_acc_list = []"
      ]
    },
    {
      "cell_type": "code",
      "execution_count": 20,
      "metadata": {
        "colab": {
          "base_uri": "https://localhost:8080/"
        },
        "id": "_Qpoy8cCtSNn",
        "outputId": "964dbb8b-6958-4a4b-a92f-8ef498105260"
      },
      "outputs": [
        {
          "output_type": "stream",
          "name": "stdout",
          "text": [
            "Creating fresh Model\n"
          ]
        }
      ],
      "source": [
        "# checking if a presaved model exists, with pre trained weights\n",
        "import os\n",
        "import pickle\n",
        "if os.path.exists(f'{name}.pt'):\n",
        "    print(\"found already saved model\")\n",
        "    model = torch.load(f'{name}.pt')\n",
        "    model.eval()\n",
        "\n",
        "    # View the saved weights\n",
        "    weights = model.state_dict()\n",
        "    #print(weights)\n",
        "\n",
        "    # loading previous loss and accuracy value logs\n",
        "    with open(f'{name}_loss', \"rb\") as fp:\n",
        "        loss_list = pickle.load(fp)\n",
        "\n",
        "    with open(f'{name}_val', \"rb\") as fp:\n",
        "        val_loss_list = pickle.load(fp)\n",
        "\n",
        "    with open(f'{name}_acc', \"rb\") as fp:\n",
        "        val_acc_list = pickle.load(fp)\n",
        "\n",
        "else:\n",
        "    print('Creating fresh Model')"
      ]
    },
    {
      "cell_type": "code",
      "execution_count": 21,
      "metadata": {
        "colab": {
          "base_uri": "https://localhost:8080/"
        },
        "id": "I6048Cmlh4bI",
        "outputId": "88ca7adf-4991-4607-cf8f-efabb59ce05e"
      },
      "outputs": [
        {
          "output_type": "stream",
          "name": "stderr",
          "text": [
            "/usr/local/lib/python3.10/dist-packages/torchvision/datasets/folder.py:245: FutureWarning: You are using `torch.load` with `weights_only=False` (the current default value), which uses the default pickle module implicitly. It is possible to construct malicious pickle data which will execute arbitrary code during unpickling (See https://github.com/pytorch/pytorch/blob/main/SECURITY.md#untrusted-models for more details). In a future release, the default value for `weights_only` will be flipped to `True`. This limits the functions that could be executed during unpickling. Arbitrary objects will no longer be allowed to be loaded via this mode unless they are explicitly allowlisted by the user via `torch.serialization.add_safe_globals`. We recommend you start setting `weights_only=True` for any use case where you don't have full control of the loaded file. Please open an issue on GitHub for any issues related to this experimental feature.\n",
            "  sample = self.loader(path)\n"
          ]
        },
        {
          "output_type": "stream",
          "name": "stdout",
          "text": [
            "Epoch: 001, Loss: 1.138987, Val Loss: 1.1664, Val Acc: 0.5814, Train Acc: 0.5849\n",
            "Epoch: 002, Loss: 0.953528, Val Loss: 0.9285, Val Acc: 0.6419, Train Acc: 0.6479\n",
            "Epoch: 003, Loss: 0.900257, Val Loss: 0.9735, Val Acc: 0.6186, Train Acc: 0.6052\n",
            "Epoch: 004, Loss: 0.883381, Val Loss: 0.8980, Val Acc: 0.6558, Train Acc: 0.6661\n",
            "Epoch: 005, Loss: 0.907241, Val Loss: 0.8575, Val Acc: 0.6884, Train Acc: 0.6839\n",
            "Epoch: 006, Loss: 0.848017, Val Loss: 0.8271, Val Acc: 0.6930, Train Acc: 0.6896\n",
            "Epoch: 007, Loss: 0.847055, Val Loss: 0.7998, Val Acc: 0.7163, Train Acc: 0.6974\n",
            "Epoch: 008, Loss: 0.788479, Val Loss: 0.8016, Val Acc: 0.7070, Train Acc: 0.7104\n",
            "Epoch: 009, Loss: 0.806826, Val Loss: 0.7977, Val Acc: 0.7070, Train Acc: 0.7177\n",
            "Epoch: 010, Loss: 0.761474, Val Loss: 0.8072, Val Acc: 0.6884, Train Acc: 0.7208\n",
            "Epoch: 011, Loss: 0.740776, Val Loss: 0.7780, Val Acc: 0.7349, Train Acc: 0.7411\n",
            "Epoch: 012, Loss: 0.730511, Val Loss: 0.8033, Val Acc: 0.7070, Train Acc: 0.7385\n",
            "Epoch: 013, Loss: 0.710212, Val Loss: 0.7304, Val Acc: 0.7349, Train Acc: 0.7349\n",
            "Epoch: 014, Loss: 0.692127, Val Loss: 0.7556, Val Acc: 0.7023, Train Acc: 0.7406\n",
            "Epoch: 015, Loss: 0.683219, Val Loss: 0.6862, Val Acc: 0.7256, Train Acc: 0.7500\n",
            "Epoch: 016, Loss: 0.659308, Val Loss: 0.7834, Val Acc: 0.7442, Train Acc: 0.7531\n",
            "Epoch: 017, Loss: 0.656795, Val Loss: 0.6710, Val Acc: 0.7907, Train Acc: 0.7828\n",
            "Epoch: 018, Loss: 0.658862, Val Loss: 0.6957, Val Acc: 0.7767, Train Acc: 0.7750\n",
            "Epoch: 019, Loss: 0.628269, Val Loss: 0.6762, Val Acc: 0.7674, Train Acc: 0.7786\n",
            "Epoch: 020, Loss: 0.604900, Val Loss: 0.6444, Val Acc: 0.7535, Train Acc: 0.7740\n",
            "Epoch: 021, Loss: 0.592418, Val Loss: 0.6831, Val Acc: 0.7628, Train Acc: 0.7849\n",
            "Epoch: 022, Loss: 0.570106, Val Loss: 0.5980, Val Acc: 0.8000, Train Acc: 0.8000\n",
            "Epoch: 023, Loss: 0.552850, Val Loss: 0.6129, Val Acc: 0.7628, Train Acc: 0.8109\n",
            "Epoch: 024, Loss: 0.551702, Val Loss: 0.6125, Val Acc: 0.7814, Train Acc: 0.8036\n",
            "Epoch: 025, Loss: 0.534194, Val Loss: 0.6749, Val Acc: 0.7395, Train Acc: 0.7719\n",
            "Epoch: 026, Loss: 0.528153, Val Loss: 0.6515, Val Acc: 0.7674, Train Acc: 0.7917\n",
            "Epoch: 027, Loss: 0.530957, Val Loss: 0.6116, Val Acc: 0.7767, Train Acc: 0.8172\n",
            "Epoch: 028, Loss: 0.510069, Val Loss: 0.5372, Val Acc: 0.8372, Train Acc: 0.8313\n",
            "Epoch: 029, Loss: 0.513063, Val Loss: 0.5556, Val Acc: 0.8140, Train Acc: 0.8328\n",
            "Epoch: 030, Loss: 0.482866, Val Loss: 0.4870, Val Acc: 0.8372, Train Acc: 0.8432\n",
            "Epoch: 031, Loss: 0.474027, Val Loss: 0.4968, Val Acc: 0.8047, Train Acc: 0.8255\n",
            "Epoch: 032, Loss: 0.458123, Val Loss: 0.5652, Val Acc: 0.7907, Train Acc: 0.8286\n",
            "Epoch: 033, Loss: 0.462714, Val Loss: 0.4719, Val Acc: 0.7953, Train Acc: 0.8391\n",
            "Epoch: 034, Loss: 0.474603, Val Loss: 0.5233, Val Acc: 0.8605, Train Acc: 0.8349\n",
            "Epoch: 035, Loss: 0.432582, Val Loss: 0.5301, Val Acc: 0.8000, Train Acc: 0.8682\n",
            "Epoch: 036, Loss: 0.399861, Val Loss: 0.4591, Val Acc: 0.8512, Train Acc: 0.8594\n",
            "Epoch: 037, Loss: 0.392657, Val Loss: 0.5057, Val Acc: 0.8465, Train Acc: 0.8719\n",
            "Epoch: 038, Loss: 0.398233, Val Loss: 0.6044, Val Acc: 0.7767, Train Acc: 0.8313\n",
            "Epoch: 039, Loss: 0.402998, Val Loss: 0.4891, Val Acc: 0.8140, Train Acc: 0.8703\n",
            "Epoch: 040, Loss: 0.384318, Val Loss: 0.5407, Val Acc: 0.8186, Train Acc: 0.8656\n",
            "Epoch: 041, Loss: 0.351509, Val Loss: 0.4660, Val Acc: 0.8419, Train Acc: 0.8932\n",
            "Epoch: 042, Loss: 0.341259, Val Loss: 0.4483, Val Acc: 0.8512, Train Acc: 0.9026\n",
            "Epoch: 043, Loss: 0.341644, Val Loss: 0.5818, Val Acc: 0.8140, Train Acc: 0.8828\n",
            "Epoch: 044, Loss: 0.347073, Val Loss: 0.4361, Val Acc: 0.8512, Train Acc: 0.8844\n",
            "Epoch: 045, Loss: 0.332640, Val Loss: 0.4035, Val Acc: 0.8558, Train Acc: 0.8964\n",
            "Epoch: 046, Loss: 0.346487, Val Loss: 0.4358, Val Acc: 0.8558, Train Acc: 0.8911\n",
            "Epoch: 047, Loss: 0.299582, Val Loss: 0.3744, Val Acc: 0.8651, Train Acc: 0.9135\n",
            "Epoch: 048, Loss: 0.310151, Val Loss: 0.4463, Val Acc: 0.8465, Train Acc: 0.8526\n",
            "Epoch: 049, Loss: 0.288612, Val Loss: 0.4067, Val Acc: 0.8651, Train Acc: 0.9245\n",
            "Epoch: 050, Loss: 0.279541, Val Loss: 0.4618, Val Acc: 0.8512, Train Acc: 0.9068\n",
            "Epoch: 051, Loss: 0.280819, Val Loss: 0.3881, Val Acc: 0.8651, Train Acc: 0.9208\n",
            "Epoch: 052, Loss: 0.252499, Val Loss: 0.3592, Val Acc: 0.8837, Train Acc: 0.9193\n",
            "Epoch: 053, Loss: 0.229331, Val Loss: 0.3693, Val Acc: 0.8791, Train Acc: 0.9099\n",
            "Epoch: 054, Loss: 0.249065, Val Loss: 0.4829, Val Acc: 0.8465, Train Acc: 0.8995\n",
            "Epoch: 055, Loss: 0.266487, Val Loss: 0.4448, Val Acc: 0.8558, Train Acc: 0.9109\n",
            "Epoch: 056, Loss: 0.238304, Val Loss: 0.3948, Val Acc: 0.8558, Train Acc: 0.9234\n",
            "Epoch: 057, Loss: 0.227666, Val Loss: 0.3502, Val Acc: 0.8837, Train Acc: 0.9120\n",
            "Epoch: 058, Loss: 0.240246, Val Loss: 0.3691, Val Acc: 0.8558, Train Acc: 0.9151\n",
            "Epoch: 059, Loss: 0.241786, Val Loss: 0.3614, Val Acc: 0.8884, Train Acc: 0.9130\n",
            "Epoch: 060, Loss: 0.215975, Val Loss: 0.3583, Val Acc: 0.8465, Train Acc: 0.9417\n",
            "Epoch: 061, Loss: 0.195670, Val Loss: 0.3225, Val Acc: 0.8651, Train Acc: 0.9401\n",
            "Epoch: 062, Loss: 0.185152, Val Loss: 0.3076, Val Acc: 0.8837, Train Acc: 0.9615\n",
            "Epoch: 063, Loss: 0.157042, Val Loss: 0.2925, Val Acc: 0.9070, Train Acc: 0.9552\n",
            "Epoch: 064, Loss: 0.169043, Val Loss: 0.3594, Val Acc: 0.8698, Train Acc: 0.9396\n",
            "Epoch: 065, Loss: 0.180608, Val Loss: 0.2680, Val Acc: 0.9256, Train Acc: 0.9344\n",
            "Epoch: 066, Loss: 0.175231, Val Loss: 0.2878, Val Acc: 0.8884, Train Acc: 0.9604\n",
            "Epoch: 067, Loss: 0.183374, Val Loss: 0.3233, Val Acc: 0.8884, Train Acc: 0.9401\n",
            "Epoch: 068, Loss: 0.174633, Val Loss: 0.3292, Val Acc: 0.8884, Train Acc: 0.9526\n",
            "Epoch: 069, Loss: 0.169866, Val Loss: 0.2409, Val Acc: 0.9116, Train Acc: 0.9495\n",
            "Epoch: 070, Loss: 0.152390, Val Loss: 0.2582, Val Acc: 0.9116, Train Acc: 0.9688\n",
            "Epoch: 071, Loss: 0.136049, Val Loss: 0.2457, Val Acc: 0.9070, Train Acc: 0.9635\n",
            "Epoch: 072, Loss: 0.134006, Val Loss: 0.2247, Val Acc: 0.9209, Train Acc: 0.9734\n",
            "Epoch: 073, Loss: 0.122472, Val Loss: 0.2140, Val Acc: 0.9163, Train Acc: 0.9568\n",
            "Epoch: 074, Loss: 0.123557, Val Loss: 0.2848, Val Acc: 0.8884, Train Acc: 0.9688\n",
            "Epoch: 075, Loss: 0.131270, Val Loss: 0.2578, Val Acc: 0.9163, Train Acc: 0.9672\n",
            "Epoch: 076, Loss: 0.130755, Val Loss: 0.2197, Val Acc: 0.9070, Train Acc: 0.9703\n",
            "Epoch: 077, Loss: 0.105460, Val Loss: 0.2122, Val Acc: 0.9395, Train Acc: 0.9786\n",
            "Epoch: 078, Loss: 0.098750, Val Loss: 0.2436, Val Acc: 0.9070, Train Acc: 0.9625\n",
            "Epoch: 079, Loss: 0.153189, Val Loss: 0.2901, Val Acc: 0.8884, Train Acc: 0.9354\n",
            "Epoch: 080, Loss: 0.168023, Val Loss: 0.2397, Val Acc: 0.9256, Train Acc: 0.9661\n",
            "Epoch: 081, Loss: 0.113577, Val Loss: 0.2997, Val Acc: 0.9070, Train Acc: 0.9755\n",
            "Epoch: 082, Loss: 0.100196, Val Loss: 0.2594, Val Acc: 0.9116, Train Acc: 0.9766\n",
            "Epoch: 083, Loss: 0.097532, Val Loss: 0.2101, Val Acc: 0.9163, Train Acc: 0.9734\n",
            "Epoch: 084, Loss: 0.079841, Val Loss: 0.1939, Val Acc: 0.9349, Train Acc: 0.9891\n",
            "Epoch: 085, Loss: 0.072276, Val Loss: 0.2586, Val Acc: 0.9163, Train Acc: 0.9682\n",
            "Epoch: 086, Loss: 0.081841, Val Loss: 0.2054, Val Acc: 0.9349, Train Acc: 0.9781\n",
            "Epoch: 087, Loss: 0.085252, Val Loss: 0.2138, Val Acc: 0.9302, Train Acc: 0.9750\n",
            "Epoch: 088, Loss: 0.086301, Val Loss: 0.2257, Val Acc: 0.9209, Train Acc: 0.9667\n",
            "Epoch: 089, Loss: 0.111115, Val Loss: 0.2472, Val Acc: 0.9116, Train Acc: 0.9646\n",
            "Epoch: 090, Loss: 0.127575, Val Loss: 0.2537, Val Acc: 0.9163, Train Acc: 0.9708\n",
            "Epoch: 091, Loss: 0.074245, Val Loss: 0.2040, Val Acc: 0.9116, Train Acc: 0.9818\n",
            "Epoch: 092, Loss: 0.068894, Val Loss: 0.2105, Val Acc: 0.9209, Train Acc: 0.9859\n",
            "Epoch: 093, Loss: 0.056546, Val Loss: 0.1879, Val Acc: 0.9349, Train Acc: 0.9906\n",
            "Epoch: 094, Loss: 0.053450, Val Loss: 0.1392, Val Acc: 0.9488, Train Acc: 0.9911\n",
            "Epoch: 095, Loss: 0.041386, Val Loss: 0.1604, Val Acc: 0.9442, Train Acc: 0.9958\n",
            "Epoch: 096, Loss: 0.038282, Val Loss: 0.1518, Val Acc: 0.9395, Train Acc: 0.9932\n",
            "Epoch: 097, Loss: 0.058851, Val Loss: 0.1266, Val Acc: 0.9628, Train Acc: 0.9932\n",
            "Epoch: 098, Loss: 0.070728, Val Loss: 0.3093, Val Acc: 0.9349, Train Acc: 0.9594\n",
            "Epoch: 099, Loss: 0.088692, Val Loss: 0.2018, Val Acc: 0.9488, Train Acc: 0.9849\n",
            "Epoch: 100, Loss: 0.079084, Val Loss: 0.2394, Val Acc: 0.9023, Train Acc: 0.9646\n"
          ]
        }
      ],
      "source": [
        "import torch\n",
        "import torch.nn.functional as F\n",
        "\n",
        "# Training function\n",
        "def train(epoch_no):\n",
        "    model.train()\n",
        "    total_loss = 0.0\n",
        "    for step, (data, y) in enumerate(train_loader):\n",
        "        num_classes = 4  # Adjust this to the actual number of classes in your dataset\n",
        "\n",
        "        # Adjust labels if they are in the range [1, num_classes] instead of [0, num_classes-1]\n",
        "        if torch.max(y) == num_classes:\n",
        "            y = y - 1\n",
        "\n",
        "        # Validate that the class values are within the valid range [0, num_classes - 1]\n",
        "        if torch.min(y) < 0 or torch.max(y) >= num_classes:\n",
        "            raise ValueError(f\"Class values must be in the range [0, {num_classes - 1}], but found min: {torch.min(y)}, max: {torch.max(y)}\")\n",
        "\n",
        "        # Move data and labels to the device\n",
        "        data, y = data.to(device), y.to(device)\n",
        "\n",
        "        # Zero the parameter gradients\n",
        "        optimizer.zero_grad()\n",
        "\n",
        "        # Forward pass\n",
        "        output = model(data)\n",
        "        loss = criterion(output, y)\n",
        "        total_loss += loss.item()\n",
        "\n",
        "        # Backward pass and optimization\n",
        "        loss.backward()\n",
        "        optimizer.step()\n",
        "\n",
        "    avg_loss = total_loss / len(train_loader)\n",
        "    return avg_loss\n",
        "\n",
        "# Validation function\n",
        "def validate(loader):\n",
        "    model.eval()\n",
        "    val_loss = 0.0\n",
        "    correct = 0\n",
        "    total = 0\n",
        "    with torch.no_grad():\n",
        "        for data, y in loader:\n",
        "            data, y = data.to(device), y.to(device)\n",
        "            output = model(data)\n",
        "            loss = criterion(output, y)\n",
        "            val_loss += loss.item()\n",
        "\n",
        "            # Get predictions and calculate accuracy\n",
        "            pred = torch.argmax(output, dim=1)\n",
        "            correct += (pred == y).sum().item()\n",
        "            total += y.size(0)\n",
        "\n",
        "    avg_loss = val_loss / len(loader)\n",
        "    accuracy = correct / total\n",
        "    return avg_loss, accuracy\n",
        "\n",
        "# Training loop\n",
        "epochs = 100  # or however many epochs you need\n",
        "loss_list = []\n",
        "val_loss_list = []\n",
        "val_acc_list = []\n",
        "train_acc_list = []\n",
        "\n",
        "# Assuming the model has already been defined and initialized\n",
        "for epoch in range(epochs):\n",
        "    loss = train(epoch)\n",
        "    val_loss, val_acc = validate(val_loader)  # Passing the DataLoader as a positional argument\n",
        "    _, train_acc = validate(train_loader)  # No keyword argument here either\n",
        "\n",
        "    loss_list.append(loss)\n",
        "    val_loss_list.append(val_loss)\n",
        "    val_acc_list.append(val_acc)\n",
        "    train_acc_list.append(train_acc)\n",
        "\n",
        "    print(f'Epoch: {epoch+1:03d}, Loss: {loss:.6f}, Val Loss: {val_loss:.4f}, Val Acc: {val_acc:.4f}, Train Acc: {train_acc:.4f}')"
      ]
    },
    {
      "cell_type": "code",
      "execution_count": 22,
      "metadata": {
        "colab": {
          "base_uri": "https://localhost:8080/",
          "height": 449
        },
        "id": "_Oe7SVfBQX6Y",
        "outputId": "18374fec-69e0-4aa7-d67d-d7ebb38a1397"
      },
      "outputs": [
        {
          "output_type": "display_data",
          "data": {
            "text/plain": [
              "<Figure size 640x480 with 1 Axes>"
            ],
            "image/png": "[encoded data removed]"
          },
          "metadata": {}
        }
      ],
      "source": [
        "plt.plot(loss_list,label='train_loss')\n",
        "plt.plot(val_loss_list, label='val_loss')\n",
        "plt.ylabel('Loss')\n",
        "plt.xlabel('Epochs')\n",
        "plt.legend(loc='upper right')\n",
        "plt.show()"
      ]
    },
    {
      "cell_type": "code",
      "execution_count": 23,
      "metadata": {
        "colab": {
          "base_uri": "https://localhost:8080/",
          "height": 449
        },
        "id": "w3ruR_xwQZ9u",
        "outputId": "d09d628c-ebfc-47a6-9f2a-125048bf1906"
      },
      "outputs": [
        {
          "output_type": "display_data",
          "data": {
            "text/plain": [
              "<Figure size 640x480 with 1 Axes>"
            ],
            "image/png": "[encoded data removed]"
          },
          "metadata": {}
        }
      ],
      "source": [
        "plt.plot(train_acc_list,label='train_acc')\n",
        "plt.plot(val_acc_list,label='val_acc')\n",
        "plt.ylabel('Accuracy')\n",
        "plt.xlabel('Epochs')\n",
        "plt.legend(loc='lower right')\n",
        "plt.show()"
      ]
    },
    {
      "cell_type": "code",
      "execution_count": 24,
      "metadata": {
        "id": "9i5gFBIPQfGF"
      },
      "outputs": [],
      "source": [
        "torch.save(model, f'{name}.pt')\n",
        "with open(f'{name}_loss', \"wb\") as fp:\n",
        "    pickle.dump(loss_list,fp)\n",
        "\n",
        "with open(f'{name}_val', \"wb\") as fp:\n",
        "    pickle.dump(val_loss_list,fp)\n",
        "\n",
        "with open(f'{name}_acc', \"wb\") as fp:\n",
        "    pickle.dump(val_acc_list,fp)"
      ]
    },
    {
      "cell_type": "code",
      "execution_count": 25,
      "metadata": {
        "colab": {
          "base_uri": "https://localhost:8080/"
        },
        "id": "n0qhFTvFQkIl",
        "outputId": "571c1fb6-9263-4021-df3a-ae45ed5e66ba"
      },
      "outputs": [
        {
          "output_type": "stream",
          "name": "stdout",
          "text": [
            "              precision    recall  f1-score   support\n",
            "\n",
            "           0       0.90      0.88      0.89        49\n",
            "           1       0.90      0.98      0.94       114\n",
            "           2       0.88      0.75      0.81        20\n",
            "           3       0.92      0.75      0.83        32\n",
            "\n",
            "    accuracy                           0.90       215\n",
            "   macro avg       0.90      0.84      0.87       215\n",
            "weighted avg       0.90      0.90      0.90       215\n",
            "\n"
          ]
        }
      ],
      "source": [
        "from sklearn.metrics import classification_report, confusion_matrix, f1_score\n",
        "y_real = []\n",
        "y_pred = []\n",
        "y_scores = []\n",
        "for i in val_dataset:\n",
        "    y_real.append(i[1])\n",
        "    out = model(i[0].to(device))\n",
        "    _,pred = torch.max(out,1)\n",
        "    y_scores.append(out)\n",
        "    y_pred.append(int(pred))\n",
        "print(classification_report(y_pred=y_pred,y_true=y_real))"
      ]
    },
    {
      "cell_type": "code",
      "execution_count": 26,
      "metadata": {
        "id": "5btVZHa9Qm91"
      },
      "outputs": [],
      "source": [
        "import matplotlib.pyplot as plt"
      ]
    },
    {
      "cell_type": "code",
      "execution_count": 27,
      "metadata": {
        "colab": {
          "base_uri": "https://localhost:8080/",
          "height": 466
        },
        "id": "yggpMXtzQqJ0",
        "outputId": "7f84f2e7-12c4-4066-eb83-4884da52280b"
      },
      "outputs": [
        {
          "output_type": "execute_result",
          "data": {
            "text/plain": [
              "Text(0.5, 23.52222222222222, 'Predicted label')"
            ]
          },
          "metadata": {},
          "execution_count": 27
        },
        {
          "output_type": "display_data",
          "data": {
            "text/plain": [
              "<Figure size 640x480 with 2 Axes>"
            ],
            "image/png": "[encoded data removed]"
          },
          "metadata": {}
        }
      ],
      "source": [
        "mat=confusion_matrix(y_pred=y_pred,y_true=y_real)\n",
        "##print(mat)\n",
        "import seaborn as sns\n",
        "\n",
        "#labels = [\"True Neg\",\"False Pos\",\"False Neg\",\"True Pos\"]\n",
        "#labels = np.asarray(labels).reshape(2,2)\n",
        "sns.heatmap(mat, annot=True)\n",
        "plt.ylabel('True label')\n",
        "plt.xlabel('Predicted label')"
      ]
    },
    {
      "cell_type": "code",
      "execution_count": 28,
      "metadata": {
        "colab": {
          "base_uri": "https://localhost:8080/"
        },
        "id": "YiDj62biQwR9",
        "outputId": "c4fb47fc-45d3-40b3-d54c-10e5a9a4e76a"
      },
      "outputs": [
        {
          "output_type": "stream",
          "name": "stdout",
          "text": [
            "specificity value for class 0 is 0.9698795080184937\n",
            "specificity value for class 1 is 0.8811880946159363\n",
            "specificity value for class 2 is 0.9897435903549194\n",
            "specificity value for class 3 is 0.9890710115432739\n"
          ]
        }
      ],
      "source": [
        "multiclass_metric = MulticlassSpecificity(num_classes=4, average=None)\n",
        "specificity_values = multiclass_metric(torch.tensor(y_pred), torch.tensor(y_real)).tolist()\n",
        "for idx, value in enumerate(specificity_values):\n",
        "    print(f'specificity value for class {idx} is {value}')"
      ]
    },
    {
      "cell_type": "code",
      "execution_count": 29,
      "metadata": {
        "colab": {
          "base_uri": "https://localhost:8080/"
        },
        "id": "vqvKBo8XQzuG",
        "outputId": "621317b7-c5f6-4892-ab88-a6c9268c7c2b"
      },
      "outputs": [
        {
          "output_type": "stream",
          "name": "stdout",
          "text": [
            "Sensitivity :  0.8775510204081632\n",
            "Specificity :  0.9911504424778761\n"
          ]
        }
      ],
      "source": [
        "sensitivity1 = mat[0,0]/(mat[0,0]+mat[0,1])\n",
        "print('Sensitivity : ', sensitivity1)\n",
        "\n",
        "specificity1 = mat[1,1]/(mat[1,0]+mat[1,1])\n",
        "print('Specificity : ', specificity1)"
      ]
    },
    {
      "cell_type": "code",
      "execution_count": 30,
      "metadata": {
        "colab": {
          "base_uri": "https://localhost:8080/",
          "height": 489
        },
        "id": "SpeOc76wtSNq",
        "outputId": "c742320e-dccd-4154-e8f3-0b46864b79aa"
      },
      "outputs": [
        {
          "output_type": "stream",
          "name": "stdout",
          "text": [
            "torch.Size([215, 4])\n"
          ]
        },
        {
          "output_type": "display_data",
          "data": {
            "text/plain": [
              "<Figure size 640x480 with 1 Axes>"
            ],
            "image/png": "[encoded data removed]"
          },
          "metadata": {}
        }
      ],
      "source": [
        "from torchmetrics.functional.classification import multiclass_roc\n",
        "import matplotlib.pyplot as plt\n",
        "\n",
        "# Get the number of classes\n",
        "n_classes = len(np.unique(y_real))\n",
        "\n",
        "prediction_tensor = torch.stack([t for t in y_scores]).view(-1,n_classes).to('cpu')\n",
        "print(prediction_tensor.shape)\n",
        "\n",
        "# Initialize variables to store false positive rate and true positive rate for each class\n",
        "fpr, tpr, thresholds = multiclass_roc(preds=prediction_tensor, target=torch.tensor( y_real), num_classes=n_classes)\n",
        "\n",
        "roc_auc = {}\n",
        "\n",
        "\n",
        "plt.figure()\n",
        "for i in range(n_classes):\n",
        "    plt.plot(fpr[i], tpr[i], label=f'Class {i}' )\n",
        "\n",
        "plt.plot([0, 1], [0, 1], 'k--')  # Diagonal line for reference\n",
        "plt.xlim([0.0, 1.0])\n",
        "plt.ylim([0.0, 1.05])\n",
        "plt.xlabel('False Positive Rate')\n",
        "plt.ylabel('True Positive Rate')\n",
        "plt.title('ROC Curve for Multiclass Classification')\n",
        "plt.legend(loc=\"lower right\")\n",
        "plt.show()"
      ]
    },
    {
      "cell_type": "code",
      "execution_count": 31,
      "metadata": {
        "colab": {
          "base_uri": "https://localhost:8080/"
        },
        "id": "mcqj6iMetSNq",
        "outputId": "8e69ea49-ba81-4583-9875-43bb9b4bed9e"
      },
      "outputs": [
        {
          "output_type": "stream",
          "name": "stdout",
          "text": [
            "area under ROC for class 0 is 0.9835259914398193\n",
            "area under ROC for class 1 is 0.9934861660003662\n",
            "area under ROC for class 2 is 0.9948717355728149\n",
            "area under ROC for class 3 is 0.9909495115280151\n"
          ]
        }
      ],
      "source": [
        "auroc = AUROC(task='multiclass', num_classes=4, average=None)\n",
        "area_values = auroc(prediction_tensor, torch.tensor(y_real))\n",
        "for idx, value in enumerate(area_values):\n",
        "    print(f'area under ROC for class {idx} is {value}')"
      ]
    },
    {
      "cell_type": "code",
      "execution_count": 31,
      "metadata": {
        "id": "2gRZAVmEh4bV"
      },
      "outputs": [],
      "source": []
    }
  ],
  "metadata": {
    "accelerator": "GPU",
    "colab": {
      "gpuType": "T4",
      "provenance": []
    },
    "kernelspec": {
      "display_name": "Python 3",
      "name": "python3"
    },
    "language_info": {
      "codemirror_mode": {
        "name": "ipython",
        "version": 3
      },
      "file_extension": ".py",
      "mimetype": "text/x-python",
      "name": "python",
      "nbconvert_exporter": "python",
      "pygments_lexer": "ipython3",
      "version": "3.12.6"
    }
  },
  "nbformat": 4,
  "nbformat_minor": 0
}